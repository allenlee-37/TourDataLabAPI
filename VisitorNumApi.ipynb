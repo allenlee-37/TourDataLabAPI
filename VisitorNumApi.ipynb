{
 "cells": [
  {
   "cell_type": "code",
   "execution_count": 11,
   "metadata": {},
   "outputs": [],
   "source": [
    "import requests\n",
    "import json \n",
    "import pandas as pd"
   ]
  },
  {
   "cell_type": "markdown",
   "metadata": {},
   "source": [
    "# 광역지자체 지역방문자수 집계 데이터 정보 조회\n",
    "광역 지자체 지역방문자수 집계 데이터 정보를 조회하는 기능\n",
    "1. numOfRows: 한페이지 결과 수 (예: 10)\n",
    "2. pageNo: 페이지 번호 (에: 1)\n",
    "3. MobileOS: OS 구분 (예: IOS, AND(안드로이드), WIND(윈도우폰), ETC)\n",
    "4. MobileApp: 서비스명 (어플명) (예: AppTest)\n",
    "5. serviceKey: 인증키\n",
    "6. startYmd: YYYYMMDD\n",
    "7. endYmd: YYYYMMDD\n",
    "\n",
    "- request URL: https://apis.data.go.kr/B551011/DataLabService/metcoRegnVisitrDDList?numOfRows=10&pageNo=1&MobileOS=ETC&MobileApp=AppTest&serviceKey=I%2BxJPDnE7MUOEc7%2Fz6XlywW7hcFOSfkHW6mk8wzlVr6w7sdiRYmOrp4XZrOsZ2vnt5AB%2BVgGLLVu%2BuXN8ojeZQ%3D%3D&startYmd=20210513&endYmd=20210513"
   ]
  },
  {
   "cell_type": "code",
   "execution_count": 12,
   "metadata": {},
   "outputs": [
    {
     "name": "stdout",
     "output_type": "stream",
     "text": [
      "총 열 갯수: 18598\n",
      "지정된 열 갯수: 1000\n"
     ]
    }
   ],
   "source": [
    "start_date = 20220101\n",
    "end_date = 20221231\n",
    "target_row = 1000\n",
    "\n",
    "def request_url(numOfRows=10, \n",
    "                pageNo=1, \n",
    "                MobileOS=\"ETC\", \n",
    "                MobileApp=\"AppTest\", \n",
    "                startYmd=20220101, \n",
    "                endYmd=20221231):\n",
    "    end_point = \"https://apis.data.go.kr/B551011/DataLabService\"\n",
    "    api_name = \"metcoRegnVisitrDDList\"\n",
    "    service_key = \"I%2BxJPDnE7MUOEc7%2Fz6XlywW7hcFOSfkHW6mk8wzlVr6w7sdiRYmOrp4XZrOsZ2vnt5AB%2BVgGLLVu%2BuXN8ojeZQ%3D%3D\"\n",
    "    d_type = \"json\"\n",
    "    url = f\"{end_point}/{api_name}?numOfRows={numOfRows}&pageNo={pageNo}&MobileOS={MobileOS}&MobileApp={MobileApp}&serviceKey={service_key}&_type={d_type}&startYmd={startYmd}&endYmd={endYmd}\"\n",
    "    return url\n",
    "\n",
    "def get_json(numRow, startYmd, endYmd):\n",
    "    url = request_url(numOfRows=numRow,startYmd=startYmd, endYmd=endYmd)\n",
    "    response = requests.get(url)\n",
    "    json_text = response.text\n",
    "    json_result = json.loads(json_text)\n",
    "    total_row = json_result['response']['body']['totalCount']\n",
    "    print(f'총 열 갯수: {total_row}')\n",
    "    print(f'지정된 열 갯수: {numRow}')\n",
    "    return json_result\n",
    "\n",
    "js = get_json(numRow=target_row,startYmd=start_date,endYmd=end_date)"
   ]
  },
  {
   "cell_type": "code",
   "execution_count": 13,
   "metadata": {},
   "outputs": [
    {
     "name": "stdout",
     "output_type": "stream",
     "text": [
      "저장 완료 - 20220101-20221231 - 광역지자체 지역방문자수 집계 데이터 정보 조회\n"
     ]
    }
   ],
   "source": [
    "def save_as_excel(start_date, end_date):\n",
    "    pre_df = js['response']['body']['items']['item']\n",
    "    df = pd.json_normalize(pre_df)\n",
    "    df = df.sort_values(by=['areaCode', 'baseYmd', 'touDivCd'], ascending=True)\n",
    "    \n",
    "    df = df.reset_index(drop=True)\n",
    "    df.to_excel(f'result/{start_date}-{end_date} - 광역지자체 지역방문자수 집계 데이터 정보 조회.xlsx')\n",
    "    return print(f'저장 완료 - {start_date}-{end_date} - 광역지자체 지역방문자수 집계 데이터 정보 조회')\n",
    "\n",
    "save_as_excel(start_date=start_date,\n",
    "              end_date=end_date)"
   ]
  },
  {
   "cell_type": "markdown",
   "metadata": {},
   "source": [
    "# 기초 지자체 지역방문자수 집계 데이터 정보 조회\n",
    "기초 지자체 지역방문자수 집계 데이터 정보를 조회하는 기능입니다. \n",
    "1. numOfRows: 한페이지 결과 수 (예: 10)\n",
    "2. pageNo: 페이지 번호 (에: 1)\n",
    "3. MobileOS: OS 구분 (예: IOS, AND(안드로이드), WIND(윈도우폰), ETC)\n",
    "4. MobileApp: 서비스명 (어플명) (예: AppTest)\n",
    "5. serviceKey: 인증키\n",
    "6. startYmd: YYYYMMDD\n",
    "7. endYmd: YYYYMMDD\n",
    "\n",
    "- request URL:https://apis.data.go.kr/B551011/DataLabService/locgoRegnVisitrDDList?numOfRows=500&pageNo=1&MobileOS=ETC&MobileApp=AppTest&serviceKey=I%2BxJPDnE7MUOEc7%2Fz6XlywW7hcFOSfkHW6mk8wzlVr6w7sdiRYmOrp4XZrOsZ2vnt5AB%2BVgGLLVu%2BuXN8ojeZQ%3D%3D&startYmd=20220101&endYmd=20221231"
   ]
  },
  {
   "cell_type": "code",
   "execution_count": 14,
   "metadata": {},
   "outputs": [
    {
     "name": "stdout",
     "output_type": "stream",
     "text": [
      "총 열 갯수: 272484\n",
      "지정된 열 갯수: 1000\n"
     ]
    }
   ],
   "source": [
    "start_date = 20220101\n",
    "end_date = 20221231\n",
    "target_row = 1000\n",
    "\n",
    "def request_url(numOfRows=10, \n",
    "                pageNo=1, \n",
    "                MobileOS=\"ETC\", \n",
    "                MobileApp=\"AppTest\", \n",
    "                startYmd=20220101, \n",
    "                endYmd=20221231):\n",
    "    end_point = \"https://apis.data.go.kr/B551011/DataLabService\"\n",
    "    api_name = \"locgoRegnVisitrDDList\"\n",
    "    service_key = \"I%2BxJPDnE7MUOEc7%2Fz6XlywW7hcFOSfkHW6mk8wzlVr6w7sdiRYmOrp4XZrOsZ2vnt5AB%2BVgGLLVu%2BuXN8ojeZQ%3D%3D\"\n",
    "    d_type = \"json\"\n",
    "    url = f\"{end_point}/{api_name}?numOfRows={numOfRows}&pageNo={pageNo}&MobileOS={MobileOS}&MobileApp={MobileApp}&serviceKey={service_key}&_type={d_type}&startYmd={startYmd}&endYmd={endYmd}\"\n",
    "    return url\n",
    "\n",
    "def get_json(numRow, startYmd, endYmd):\n",
    "    url = request_url(numOfRows=numRow,startYmd=startYmd, endYmd=endYmd)\n",
    "    response = requests.get(url)\n",
    "    json_text = response.text\n",
    "    json_result = json.loads(json_text)\n",
    "    total_row = json_result['response']['body']['totalCount']\n",
    "    print(f'총 열 갯수: {total_row}')\n",
    "    print(f'지정된 열 갯수: {numRow}')\n",
    "    return json_result\n",
    "\n",
    "js = get_json(numRow=target_row,startYmd=start_date,endYmd=end_date)"
   ]
  },
  {
   "cell_type": "code",
   "execution_count": 15,
   "metadata": {},
   "outputs": [
    {
     "name": "stdout",
     "output_type": "stream",
     "text": [
      "저장 완료 - 20220101-20221231 - 기초 지자체 지역방문자수 집계 데이터 정보 조회\n"
     ]
    }
   ],
   "source": [
    "def save_as_excel(start_date, end_date):\n",
    "    pre_df = js['response']['body']['items']['item']\n",
    "    df = pd.json_normalize(pre_df)\n",
    "    df = df.sort_values(by=['signguCode', 'baseYmd', 'touDivCd'], ascending=True)\n",
    "\n",
    "    df = df.reset_index(drop=True)\n",
    "    df.to_excel(f'result/{start_date}-{end_date} - 기초 지자체 지역방문자수 집계 데이터 정보 조회.xlsx')\n",
    "    return print(f'저장 완료 - {start_date}-{end_date} - 기초 지자체 지역방문자수 집계 데이터 정보 조회')\n",
    "\n",
    "save_as_excel(start_date=start_date,\n",
    "              end_date=end_date)"
   ]
  }
 ],
 "metadata": {
  "kernelspec": {
   "display_name": "base",
   "language": "python",
   "name": "python3"
  },
  "language_info": {
   "codemirror_mode": {
    "name": "ipython",
    "version": 3
   },
   "file_extension": ".py",
   "mimetype": "text/x-python",
   "name": "python",
   "nbconvert_exporter": "python",
   "pygments_lexer": "ipython3",
   "version": "3.10.8"
  },
  "orig_nbformat": 4
 },
 "nbformat": 4,
 "nbformat_minor": 2
}
